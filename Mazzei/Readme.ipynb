{
  "cells": [
    {
      "cell_type": "markdown",
      "metadata": {
        "slideshow": {
          "slide_type": "skip"
        },
        "pycharm": {}
      },
      "source": [
        "\u003cstyle type\u003d\"text/css\"\u003e\n",
        "div.text_cell_render h1 {  \n",
        "    font-size: 24pt; }\n",
        "\n",
        "div.text_cell_render h2 {  \n",
        "    font-size: 18pt; }\n",
        "\n",
        "div.text_cell_render h3 {  \n",
        "    font-size: 14pt; }\n",
        "\n",
        ".rendered_html pre,\n",
        ".rendered_html code {\n",
        "    font-size: medium; }\n",
        "\n",
        ".rendered_html ol {\n",
        "    list-style:decimal;\n",
        "    margin: 1em 2em; }    \n",
        "    \n",
        ".tg  {border-collapse:collapse;border-spacing:0;}\n",
        ".tg td{font-family:Arial, sans-serif;font-size:14px;padding:10px 5px;border-style:solid;border-width:1px;overflow:hidden;word-break:normal;border-color:black;}\n",
        ".tg th{font-family:Arial, sans-serif;font-size:14px;font-weight:normal;padding:10px 5px;border-style:solid;border-width:1px;overflow:hidden;word-break:normal;border-color:black;}\n",
        ".tg .tg-0pky{border-color:inherit;text-align:left;vertical-align:top} \u003c/style\u003e"
      ]
    },
    {
      "cell_type": "markdown",
      "metadata": {
        "slideshow": {
          "slide_type": "slide"
        },
        "pycharm": {}
      },
      "source": [
        "\u003ctable class\u003d\"tg\" align\u003d\"right\"\u003e\n",
        "  \u003ctr\u003e\n",
        "    \u003cth class\u003d\"tg-0pky\"\u003e \u003cb\u003eAuthor:\u003c/b\u003e \u003c/th\u003e\n",
        "    \u003cth class\u003d\"tg-0pky\"\u003e Cesare Pio Iurlaro \u003cbr\u003e (\u003ca href\u003d\"cesareiurlaro@gmail.com\"\u003ecesareiurlaro@gmail.com\u003c/a\u003e)  \u003c/th\u003e\n",
        "  \u003c/tr\u003e\n",
        "  \u003ctr\u003e\n",
        "    \u003cth class\u003d\"tg-0pky\"\u003e \u003cb\u003eURLs:\u003c/b\u003e \u003c/th\u003e\n",
        "    \u003cth class\u003d\"tg-0pky\"\u003e - \u003ca href\u003d\"https://github.com/CesareIurlaro\"\u003eGitHub.com \u003c/a\u003e \u003cbr\u003e\n",
        "                         - \u003ca href\u003d\"https://www.linkedin.com/in/cesare-iurlaro\"\u003eLinkedin.com \u003c/a\u003e\u003c/th\u003e\u003c/tr\u003e\n",
        "\u003c/table\u003e \n",
        "\n",
        "\u003chr\u003e\n",
        "\n",
        "# Elementi di elaborazione automatica del linguaggio naturale \u003cbr\u003e Esercizio #2 [2018/2019]"
      ]
    },
    {
      "cell_type": "markdown",
      "metadata": {
        "slideshow": {
          "slide_type": "subslide"
        },
        "pycharm": {}
      },
      "source": [
        "\u003chr\u003e\n",
        "\n",
        "## 1. Traccia \n",
        "L\u0027esercizio consiste nell\u0027implementazione di un semplice **traduttore transfer** **IT $\\rightarrow$ IT**-**YO**, ovvero di un _sistema di traduzione_ che prenda in _input_ una frase scritta in italiano e che restituisca in _output_ la corrispondente traduzione in \u0027italiano-yoda\u0027, lingua fittizia parlata nell\u0027universo cinematografico della saga di Guerre Stellari.\n",
        "\n",
        "\n",
        "La **parsificazione** è vincolata all\u0027utilizzo dell\u0027**_algoritmo CKY_**, algoritmo per _grammatiche fuori dal contesto_ (_CFG_) che sfrutta il metodo di **_programmazione dinamica_** e una strategia **_bottom-up_** per svolgere il _task_ con una _complessità nel caso peggiore_ di $\\mathcal{O}\\left(n^{3} \\cdot|G|\\right)$, dove $n$ è la _lunghezza_ della stringa da parsificare e $|G|$ la cardinalità della grammatica $G$."
      ]
    },
    {
      "cell_type": "markdown",
      "metadata": {
        "slideshow": {
          "slide_type": "subslide"
        },
        "pycharm": {}
      },
      "source": [
        "Di seguito sono elencati alcuni esempi di traduzioni che ci si aspetta che il traduttore sia in grado di eseguire correttamente:\n",
        "\n",
        "\n",
        "\u003ctable class\u003d\"tg\"\u003e\n",
        "  \u003ctr\u003e\n",
        "    \u003cth class\u003d\"tg-0pky\"\u003e\u003c/th\u003e\n",
        "    \u003cth class\u003d\"tg-0pky\"\u003e\u003cb\u003eInput\u003c/b\u003e\u003c/th\u003e\n",
        "    \u003cth class\u003d\"tg-0pky\"\u003e\u003cb\u003eOutput atteso\u003c/b\u003e\u003c/th\u003e\n",
        "  \u003c/tr\u003e\n",
        "  \u003ctr\u003e\n",
        "    \u003cth class\u003d\"tg-0pky\"\u003e$(a)$\u003c/th\u003e\n",
        "    \u003cth class\u003d\"tg-0pky\"\u003eTu avrai novecento anni di età\u003c/th\u003e\n",
        "    \u003cth class\u003d\"tg-0pky\"\u003eNovecento anni di età tu avrai\u003c/th\u003e\n",
        "  \u003c/tr\u003e\n",
        "  \u003ctr\u003e\n",
        "    \u003cth class\u003d\"tg-0pky\"\u003e$(b)$\u003c/th\u003e\n",
        "    \u003cth class\u003d\"tg-0pky\"\u003eTu hai amici lì\u003c/th\u003e\n",
        "    \u003cth class\u003d\"tg-0pky\"\u003eAmici hai tu lì\u003c/th\u003e\n",
        "  \u003c/tr\u003e\n",
        "  \u003ctr\u003e\n",
        "    \u003cth class\u003d\"tg-0pky\"\u003e$(c)$\u003c/th\u003e\n",
        "    \u003cth class\u003d\"tg-0pky\"\u003eNoi siamo illuminati\u003c/th\u003e\n",
        "    \u003cth class\u003d\"tg-0pky\"\u003eIlluminati noi siamo\u003c/th\u003e\n",
        "  \u003c/tr\u003e\n",
        "  \u003ctr\u003e\n",
        "    \u003cth class\u003d\"tg-0pky\"\u003e$(d)$\u003c/th\u003e\n",
        "    \u003cth class\u003d\"tg-0pky\"\u003eTu hai molto molto da apprendere ancora\u003c/th\u003e\n",
        "    \u003cth class\u003d\"tg-0pky\"\u003eMolto da apprendere ancora tu hai\u003c/th\u003e\n",
        "  \u003c/tr\u003e\n",
        "  \u003ctr\u003e\n",
        "    \u003cth class\u003d\"tg-0pky\"\u003e$(e)$\u003c/th\u003e\n",
        "    \u003cth class\u003d\"tg-0pky\"\u003eIl futuro di questo ragazzo è nebuloso\u003c/th\u003e\n",
        "    \u003cth class\u003d\"tg-0pky\"\u003eNebuloso il futuro di questo ragazzo è\u003c/th\u003e\n",
        "  \u003c/tr\u003e\n",
        "  \u003ctr\u003e\n",
        "    \u003cth class\u003d\"tg-0pky\"\u003e$(f)$\u003c/th\u003e\n",
        "    \u003cth class\u003d\"tg-0pky\"\u003eSkywalker corre veloce\u003c/th\u003e\n",
        "    \u003cth class\u003d\"tg-0pky\"\u003eVeloce Skywalker corre\u003c/th\u003e\n",
        "  \u003c/tr\u003e\n",
        "    \n",
        "\u003c/table\u003e"
      ]
    },
    {
      "cell_type": "markdown",
      "metadata": {
        "slideshow": {
          "slide_type": "slide"
        },
        "pycharm": {}
      },
      "source": [
        "### 1.1 Osservazioni preliminari\n",
        "\n",
        "#### 1.1.1 Schemi linguistici di Yoda\n",
        "Yoda è un personaggio immaginario della saga fantascientifica di Guerre stellari. \n",
        "I suoi **caratteristici schemi linguistici** sono stati oggetto di discussione in tipologia linguistica; gli accademici sintattici li hanno infatti associati ad un **ordine di sintassi realmente adottato da alcuni linguaggi naturali: l\u0027ordine Oggetto-Soggetto-Verbo** (**OSV**).\n",
        "\n",
        "Quest\u0027ultimo viene anche detto **XSV**, dove **X** rappresenta un qualsivoglia complemento, eventualmente anche non oggetto, che si coordini appropriatamente con il verbo.\n",
        "\u003chr\u003e\n",
        "\u003e $A$ $long$ $time$ $ago,$ $in$ $a$ $galaxy$ $far$ $far$ $away$ $...$ \n",
        "\u003e ![Alt text](https://encrypted-tbn0.gstatic.com/images?q\u003dtbn:ANd9GcTLYrmOHFvYMRgYBpwMyVffZHZ0Os33YNoxEiR9rzKDDuRNyYQY)\n",
        "\n",
        "Esempi di altre lingue che fanno uso di questo ordine sono le lingue _haida_ e _kotava_."
      ]
    },
    {
      "cell_type": "markdown",
      "metadata": {
        "slideshow": {
          "slide_type": "subslide"
        },
        "pycharm": {}
      },
      "source": [
        "#### 1.1.2 Regole per la traduzione\n",
        "Sebbene associato ad un _ordine OSV_, il linguaggio usato da Yoda **non ha un comportamento sempre riconducibile a uno schema fisso**. Ciò significa che una regola di traduzione potrebbe essere corretta per una o più sue citazioni, ma anche che potrebbe non esserlo per altre aventi la stessa struttura sintattica.\n",
        "\n",
        "È possibile constatare questa irregolarità anche tramite l\u0027**osservazione degli esempi**:\n",
        "1. L\u0027**anteposizione degli aggettivi e dei sintagmi aggettivali** avviene negli esempi in cui compaiono $(a)$ $(d)$ $(e)$ $(f)$\n",
        "2. L\u0027**anteposizione dei sintagmi avverbiali** invece avviene sono nell\u0027esempio $(d)$ e non in $(b)$\n",
        "2. L\u0027**inversione di pronome e verbo** è infine presente solo nell\u0027esempio $(b)$\n",
        "\n",
        "Ciò è stato tenuto presente durante la _fase di progettazione_."
      ]
    },
    {
      "cell_type": "markdown",
      "metadata": {
        "slideshow": {
          "slide_type": "slide"
        },
        "pycharm": {}
      },
      "source": [
        "## 2. Realizzazione\n",
        "\n",
        "### 2.1 Requisiti:\n",
        "1. **Acquisizione di una grammatica** sufficientemente espressiva da coprire almeno il dominio di esempi precedentemente enumerati\n",
        "2. **Implementazione** di **CKY** che generi alberi sintattici avvalendosi di meccanismi di backtracing\n",
        "3. Manipolazione efficiente dei dati al fine di ottenere una **traduzione accurata dell\u0027_input_**"
      ]
    },
    {
      "cell_type": "markdown",
      "metadata": {
        "pycharm": {}
      },
      "source": [
        "### 2.2 Grammatica\n",
        "Nella scrittura della grammatica sono state catturate solamente alcune tra le più significative **strutture** della lingua italiana . \n",
        "\n",
        "#### Sintagmi (regole grammaticali) modellati:\n",
        "- Sintagmi _nominali_ (**NP**)\n",
        "- Sintagmi _verbali_ (**VP**)\n",
        "- Sintagmi _aggettivali_ (**ADJP**)\n",
        "- Sintagmi _avverbiali_ (**ADVP**)\n",
        "- Sintagmi _preposizionali_ (**PP**)\n",
        "\n",
        "#### Unità sintattiche modellate:\n",
        "- _Pronomi personali_ e _nomi propri_ (**NP**)\n",
        "- _Nomi_ non propri (**NOUN**)\n",
        "- _Pronomi_ non personali (**PRON**)\n",
        "- _Verbi_ non usati come ausiliari (**VERB**)\n",
        "- _Verbi_ usati come _ausiliari_ (**AUX**)\n",
        "- _Verbi_ composti usati con un _ausiliare_ (**VBN**)\n",
        "- _Articoli_ (**DET**)\n",
        "- _Avverbi_ (**ADV**)\n",
        "- _Preposizioni_ (**ADP**)\n",
        "- _Aggettivi_ (**ADV**)"
      ]
    },
    {
      "cell_type": "markdown",
      "metadata": {
        "pycharm": {}
      },
      "source": [
        "### 2.3 Architettura\n",
        "\n",
        "#### Piattaforma\n",
        "**_Nltk_** è una _suite di librerie_ che mette a disposizione classi e metodi per la gestione di alberi sintattici e grammatiche.\n",
        "\n",
        "Scritta in in **_python_**, è il punto di riferimento per l\u0027elaborazione del linguaggio naturale _open source_ e si è perciò dimostrata una **solida scelta**."
      ]
    },
    {
      "cell_type": "markdown",
      "metadata": {
        "slideshow": {
          "slide_type": "subslide"
        },
        "pycharm": {}
      },
      "source": [
        "#### Moduli:\n",
        "- `_init_`, responsabile dell\u0027inizializzazione dei **dati di configurazione**:    \n",
        "    \n",
        "    - `data_folder` e `data_file` sono i **riferimenti sul filesystem** rispettivamente alla _cartella delle grammatiche_ e ad una _specifica grammatica_\n",
        "    -  `sentences` è una lista di **stringhe di _input_** (_frasi_) da sottoporre al traduttore\n",
        "    -  `translation_rules`  è la lista di `Nonterminal`; **il traduttore la utilizza per trasformare l\u0027albero sintattico** in fase di traduzione\n",
        "    \n",
        "    \n",
        "- `_logic_`, resposabile della _logica applicativa._ \n",
        "\n",
        "    - Composto da due funzioni, `cky_parsing` e `translate`, **determina le funzionalità dell\u0027applicazione** eseguendo elaborazioni dettagliate.\n",
        "    \n",
        "\n",
        "- `_main_`, responsabile dell\u0027**avvio del programma**; richiama entrambi i moduli precedentemente descritti.\n",
        "\n",
        "\u003chr\u003e\n",
        "\n"
      ]
    },
    {
      "cell_type": "markdown",
      "metadata": {
        "slideshow": {
          "slide_type": "subslide"
        },
        "pycharm": {}
      },
      "source": [
        "#### 2.3.1 Descrizione di `cky_parsing`\n",
        "Implementa l\u0027**algoritmo di parsificazione CKY**.\n",
        "- _input_: lista di parole `words`, Context-Free-Grammar `grammar` e parametro opzionale booleano `draw `.\n",
        "- _output_: albero sintattico le cui foglie sono componenti di `words` e il cui nodo padre è il POS tag che l\u0027algoritmo ha associato loro\n",
        "\u003ctable class\u003d\"tg\" align\u003d\"left\"\u003e\n",
        "\u003ctr\u003e \u003cth class\u003d\"tg-0pky\"\u003e Il \u003cb\u003e\u003ci\u003ePOS tag\u003c/i\u003e\u003c/b\u003e è il mezzo con cui è possibile effettuare elaborazione del linguaggio naturale. \u003cbr\u003e Consiste in una sequenza di caratteri che \u003cb\u003eidentifica\u003c/b\u003e un insieme elementi sintattici simili tra loro, e \u003cb\u003edistingue\u003c/b\u003e quelli che invece non lo sono. \u003c/th\u003e \u003c/tr\u003e \u003c/table\u003e"
      ]
    },
    {
      "cell_type": "markdown",
      "metadata": {
        "slideshow": {
          "slide_type": "subslide"
        },
        "pycharm": {}
      },
      "source": [
        "L\u0027algoritmo costruisce una **matrice `table`**, di tipo `ndarray`. Ciascuna **componente** di tale matrice è una **lista di alberi sintattici** potenzialmente vuota. La presenza di **un albero sintattico certifica la corrispondenza tra una produzione della grammatica e la frase di input**.\n",
        "\n",
        "Questa implementazione **determina se una sequenza di parole $S$ è coperta da una grammatica $G$**:\n",
        "\n",
        "- se la **componente** di `table` **$[0,\\ n-1]$** è una **lista vuota**, allora vuol dire che **non esiste un albero sintattico** di $S$ in accordo a $G$.\n",
        " \u003cbr\u003e In tal caso l\u0027**algoritmo restituisce un albero la cui radice presenta l\u0027etichetta \"`Grammar error`\"**.\n",
        "\n",
        "\n",
        "- se altrimenti tale **componente** è una **lista non vuota**, allora vuol dire che $G$ copre $S$ ed inoltre\n",
        "    - se contiene **un solo elemento**, l\u0027**interpretazione** di $S$ è **univoca**\n",
        "    - se viceversa contiene **più di un elemento**, vi sono più interpretazioni di $S$ e quindi vi è **ambiguità**\n",
        "  \u003cbr\u003e \n",
        "  \n",
        "  In tal caso l\u0027**algoritmo restituisce il primo albero** presente nella lista, ignorando così l\u0027ambiguità. \u003cbr\u003e Se `draw` ha valore **True**, allora tale albero viene anche disegnato a schermo."
      ]
    },
    {
      "cell_type": "code",
      "execution_count": null,
      "metadata": {
        "scrolled": true,
        "slideshow": {
          "slide_type": "subslide"
        },
        "pycharm": {}
      },
      "outputs": [],
      "source": [
        "def cky_parsing(words: list, grammar: CFG, draw\u003dFalse):\n",
        "        n \u003d len(words) + 1\n",
        "        table \u003d numpy.ndarray(shape\u003d(n,n), dtype\u003dset)\n",
        "\n",
        "        for j in range(1, n):                                                           \n",
        "            table[j-1, j] \u003d list(map(lambda rule: Tree(rule.lhs(), [words[j-1]]),      \n",
        "                                list(filter(lambda production: len(production.rhs()) \u003d\u003d 1\n",
        "                                                                  and production.rhs()[0] \u003d\u003d words[j-1],\n",
        "                                                               grammar.productions()))))\n",
        "\n",
        "            for i in reversed(range(0, j-1)):\n",
        "                for k in range(i+1, j):                         \n",
        "                    rule \u003d list(map(lambda rule: Tree(rule.lhs(), [table[i, k][0], table[k, j][0]]),\n",
        "                        list(filter(lambda production: len(production.rhs()) \u003d\u003d 2\n",
        "                           and table[i, k] is not None and production.rhs()[0] in map(lambda head: head.label(), table[i, k])\n",
        "                           and table[k, j] is not None and production.rhs()[1] in map(lambda head: head.label(), table[k, j]),\n",
        "                        grammar.productions()))))\n",
        "                    table[i, j] \u003d rule if table[i, j] is None else rule + table[i, j]\n",
        "                    \n",
        "        if draw: table[0, n - 1][0].draw()\n",
        "        return table[0, n-1][0] if len(table[0, n-1]) !\u003d 0 else Tree(\"Grammar error\", []) "
      ]
    },
    {
      "cell_type": "markdown",
      "metadata": {
        "slideshow": {
          "slide_type": "slide"
        },
        "pycharm": {}
      },
      "source": [
        "\u003chr\u003e\n",
        "\n",
        "#### 2.3.2 Descrizione di `translate`\n",
        "Implementazione della **fase di traduzione** del programma.\n",
        "- _input_: albero sintattico `tree` della frase da tradurre, lista di non terminali `translation_rules` e parametro opzionale booleano `draw `.\n",
        "- _output_: manipolazione dell\u0027albero `tree` di partenza; rappresenta la traduzione effettuata\n",
        "\n",
        "Questa funzione effettua in `tree` una **ricerca in profondità in preordine** di un oggetto di classe `Nonterminal` (POS tag o sintagma che sia) presente nella lista `translation_rules`. Se la ricerca ha successo, **antepone tale oggetto al resto della frase**.\n",
        "\n",
        " Se `draw` ha valore **True**, allora l\u0027albero così manipolato viene anche disegnato a schermo.\n",
        " La **funzione restituisce l\u0027albero manipolato**, ovvero quello su cui è stata effettuata la traduzione e la cui radice presenta l\u0027etichetta \"`Translation`\"."
      ]
    },
    {
      "cell_type": "code",
      "execution_count": null,
      "metadata": {
        "slideshow": {
          "slide_type": "subslide"
        },
        "pycharm": {}
      },
      "outputs": [],
      "source": [
        "def translate(tree: Tree, translation_rules: list, draw\u003dFalse):\n",
        "    put_back \u003d list(filter(lambda i: isinstance(tree[i], Tree)\n",
        "                                          and tree[i].label() in translation_rules\n",
        "                                          and not \u0027put_back\u0027 in locals(),\n",
        "                                tree.treepositions()))[0] if len(tree) !\u003d 0 else []\n",
        "\n",
        "    if len(put_back) !\u003d 0:\n",
        "        prefix \u003d tree.__getitem__(put_back)\n",
        "        tree.__delitem__(put_back)\n",
        "        tree \u003d Tree(Nonterminal(\u0027Translation\u0027), [prefix, tree[0], tree[1]])\n",
        "        if draw: tree.draw()\n",
        "\n",
        "    return tree"
      ]
    },
    {
      "cell_type": "markdown",
      "metadata": {
        "slideshow": {
          "slide_type": "subslide"
        },
        "pycharm": {}
      },
      "source": [
        "## 3. Conclusione\n",
        "\n",
        "### 3.1 Considerazioni\n",
        "\n",
        "Il programma si comporta bene nella maggior parte dei casi, ma non in tutti.\n",
        "\n",
        "Le incongruenze presenti all\u0027interno delle citazioni stesse non permettono infatti di stabilire delle regole di traduzione generali al punto che il traduttore si comporti bene per tutti i possibili _input_.\n",
        "\n",
        "Con riferimento agli esempi, il traduttore ottiene sempre l\u0027esatto **output atteso**, tranne che per l\u0027esempio $(b)$; che però, come osservato precedentemente, si comporta in modo anomalo per ben 2 delle 3 regole catturate per la traduzione nel linguaggio di Yoda e pertanto richiederebbe delle _regole ad hoc_.\n",
        "\n",
        "A supporto del fatto che sia un caso specifico problematico da generalizzare, riporto di seguito la traduzione del \u003ca href\u003d\"http://www.yodaspeak.co.uk/index.php\"\u003eYoda speak generator\u003c/a\u003e: \u003cbr\u003e\n",
        "\n",
        "\u003cp align\u003d\"center\"\u003e\u003cimg src\u003d\"https://i.ibb.co/dtpL47B/yoda.png\"/\u003e\u003c/p\u003e\n",
        "\n",
        "La quale **coincide esattamente** con quella ottenuta tramite il sistema realizzato, riportata nel paragrafo successivo."
      ]
    },
    {
      "attachments": {
        "1_a.png": {
          "image/png": "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\u003d"
        },
        "1_b.png": {
          "image/png": "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\u003d\u003d"
        }
      },
      "cell_type": "markdown",
      "metadata": {
        "pycharm": {}
      },
      "source": "### 3.2 Esempi di traduzione\n\n\u003cp\u003e\u003cb\u003eInput\u003c/b\u003e\u003c/p\u003e | \u003cp\u003e\u003cb\u003eOutput reale\u003c/b\u003e\u003c/p\u003e\n- | - \n\u003cimg src\u003d\"https://i.ibb.co/N9rrNQG/yoda.png\"/\u003e | \u003cimg src\u003d\"https://i.ibb.co/F7Hw4VS/yoda.png\"/\u003e\n\u003cimg src\u003d\"https://i.ibb.co/gD5Cw1p/yoda.png\"/\u003e | \u003cimg src\u003d\"https://i.ibb.co/VMcb6gc/yoda.png\"/\u003e"
    }
  ],
  "metadata": {
    "celltoolbar": "Raw Cell Format",
    "kernelspec": {
      "display_name": "Python 3",
      "language": "python",
      "name": "python3"
    },
    "language_info": {
      "codemirror_mode": {
        "name": "ipython",
        "version": 3
      },
      "file_extension": ".py",
      "mimetype": "text/x-python",
      "name": "python",
      "nbconvert_exporter": "python",
      "pygments_lexer": "ipython3",
      "version": "3.6.6"
    }
  },
  "nbformat": 4,
  "nbformat_minor": 2
}