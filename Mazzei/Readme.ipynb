{
 "cells": [
  {
   "cell_type": "markdown",
   "metadata": {
    "pycharm": {},
    "slideshow": {
     "slide_type": "skip"
    }
   },
   "source": [
    "<style type=\"text/css\">\n",
    "div.text_cell_render h1 {  \n",
    "    font-size: 24pt; }\n",
    "\n",
    "div.text_cell_render h2 {  \n",
    "    font-size: 18pt; }\n",
    "\n",
    "div.text_cell_render h3 {  \n",
    "    font-size: 14pt; }\n",
    "\n",
    ".rendered_html pre,\n",
    ".rendered_html code {\n",
    "    font-size: medium; }\n",
    "\n",
    ".rendered_html ol {\n",
    "    list-style:decimal;\n",
    "    margin: 1em 2em; }    \n",
    "    \n",
    ".tg  {border-collapse:collapse;border-spacing:0;}\n",
    ".tg td{font-family:Arial, sans-serif;font-size:14px;padding:10px 5px;border-style:solid;border-width:1px;overflow:hidden;word-break:normal;border-color:black;}\n",
    ".tg th{font-family:Arial, sans-serif;font-size:14px;font-weight:normal;padding:10px 5px;border-style:solid;border-width:1px;overflow:hidden;word-break:normal;border-color:black;}\n",
    ".tg .tg-0pky{border-color:inherit;text-align:left;vertical-align:top} </style>"
   ]
  },
  {
   "cell_type": "markdown",
   "metadata": {
    "pycharm": {},
    "slideshow": {
     "slide_type": "slide"
    }
   },
   "source": [
    "<table class=\"tg\" align=\"right\">\n",
    "  <tr>\n",
    "    <th class=\"tg-0pky\"> <b>Author:</b> </th>\n",
    "    <th class=\"tg-0pky\"> Cesare Pio Iurlaro <br> (<a href=\"cesareiurlaro@gmail.com\">cesareiurlaro@gmail.com</a>)  </th>\n",
    "  </tr>\n",
    "  <tr>\n",
    "    <th class=\"tg-0pky\"> <b>URLs:</b> </th>\n",
    "    <th class=\"tg-0pky\"> - <a href=\"https://github.com/CesareIurlaro\">GitHub.com </a> <br>\n",
    "                         - <a href=\"https://www.linkedin.com/in/cesare-iurlaro\">Linkedin.com </a></th></tr>\n",
    "</table> \n",
    "\n",
    "<hr>\n",
    "\n",
    "# Elementi di elaborazione automatica del linguaggio naturale <br> Esercizio #2 [2018/2019]"
   ]
  },
  {
   "cell_type": "markdown",
   "metadata": {
    "pycharm": {},
    "slideshow": {
     "slide_type": "subslide"
    }
   },
   "source": [
    "<hr>\n",
    "\n",
    "## 1. Traccia \n",
    "L'esercizio consiste nell'implementazione di un semplice **traduttore transfer** **IT $\\rightarrow$ IT**-**YO**, ovvero di un _sistema di traduzione_ che prenda in _input_ una frase scritta in italiano e che restituisca in _output_ la corrispondente traduzione in 'italiano-yoda', lingua fittizia parlata nell'universo cinematografico della saga di Guerre Stellari.\n",
    "\n",
    "\n",
    "La **parsificazione** è vincolata all'utilizzo dell'**_algoritmo CKY_**, algoritmo per _grammatiche libere dal contesto_ (_CFG_) che sfrutta il metodo di **_programmazione dinamica_** e una strategia **_bottom-up_** per svolgere il _task_ con una _complessità nel caso peggiore_ di $\\mathcal{O}\\left(n^{3} \\cdot|G|\\right)$, dove $n$ è la _lunghezza_ della stringa da parsificare e $|G|$ la cardinalità della grammatica $G$."
   ]
  },
  {
   "cell_type": "markdown",
   "metadata": {
    "pycharm": {},
    "slideshow": {
     "slide_type": "subslide"
    }
   },
   "source": [
    "Di seguito sono elencati alcuni esempi di traduzioni che ci si aspetta che il traduttore sia in grado di eseguire correttamente:\n",
    "\n",
    "\n",
    "<table class=\"tg\">\n",
    "  <tr>\n",
    "    <th class=\"tg-0pky\"></th>\n",
    "    <th class=\"tg-0pky\"><b>Input</b></th>\n",
    "    <th class=\"tg-0pky\"><b>Output atteso</b></th>\n",
    "  </tr>\n",
    "  <tr>\n",
    "    <th class=\"tg-0pky\">$(a)$</th>\n",
    "    <th class=\"tg-0pky\">Tu avrai novecento anni di età</th>\n",
    "    <th class=\"tg-0pky\">Novecento anni di età tu avrai</th>\n",
    "  </tr>\n",
    "  <tr>\n",
    "    <th class=\"tg-0pky\">$(b)$</th>\n",
    "    <th class=\"tg-0pky\">Tu hai amici lì</th>\n",
    "    <th class=\"tg-0pky\">Amici hai tu lì</th>\n",
    "  </tr>\n",
    "  <tr>\n",
    "    <th class=\"tg-0pky\">$(c)$</th>\n",
    "    <th class=\"tg-0pky\">Noi siamo illuminati</th>\n",
    "    <th class=\"tg-0pky\">Illuminati noi siamo</th>\n",
    "  </tr>\n",
    "  <tr>\n",
    "    <th class=\"tg-0pky\">$(d)$</th>\n",
    "    <th class=\"tg-0pky\">Tu hai molto molto da apprendere ancora</th>\n",
    "    <th class=\"tg-0pky\">Molto da apprendere ancora tu hai</th>\n",
    "  </tr>\n",
    "  <tr>\n",
    "    <th class=\"tg-0pky\">$(e)$</th>\n",
    "    <th class=\"tg-0pky\">Il futuro di questo ragazzo è nebuloso</th>\n",
    "    <th class=\"tg-0pky\">Nebuloso il futuro di questo ragazzo è</th>\n",
    "  </tr>\n",
    "  <tr>\n",
    "    <th class=\"tg-0pky\">$(f)$</th>\n",
    "    <th class=\"tg-0pky\">Skywalker corre veloce</th>\n",
    "    <th class=\"tg-0pky\">Veloce Skywalker corre</th>\n",
    "  </tr>\n",
    "    \n",
    "</table>"
   ]
  },
  {
   "cell_type": "markdown",
   "metadata": {
    "pycharm": {},
    "slideshow": {
     "slide_type": "slide"
    }
   },
   "source": [
    "### 1.1 Osservazioni preliminari\n",
    "\n",
    "#### 1.1.1 Schemi linguistici di Yoda\n",
    "Yoda è un personaggio immaginario della saga fantascientifica di Guerre stellari. \n",
    "I suoi **caratteristici schemi linguistici** sono stati oggetto di discussione in tipologia linguistica; gli accademici sintattici li hanno infatti associati ad un **ordine di sintassi realmente adottato da alcuni linguaggi naturali: l'ordine Oggetto-Soggetto-Verbo** (**OSV**).\n",
    "\n",
    "Quest'ultimo viene anche detto **XSV**, dove **X** rappresenta un qualsivoglia complemento, eventualmente anche non oggetto, che si coordini appropriatamente con il verbo.\n",
    "<hr>\n",
    "> $A$ $long$ $time$ $ago,$ $in$ $a$ $galaxy$ $far$ $far$ $away$ $...$ \n",
    "> ![Alt text](https://encrypted-tbn0.gstatic.com/images?q=tbn:ANd9GcTLYrmOHFvYMRgYBpwMyVffZHZ0Os33YNoxEiR9rzKDDuRNyYQY)\n",
    "\n",
    "Esempi di altre lingue che fanno uso di questo ordine sono le lingue _haida_ e _kotava_."
   ]
  },
  {
   "cell_type": "markdown",
   "metadata": {
    "pycharm": {},
    "slideshow": {
     "slide_type": "subslide"
    }
   },
   "source": [
    "#### 1.1.2 Regole per la traduzione\n",
    "Sebbene associato ad un _ordine OSV_, il linguaggio usato da Yoda **non ha un comportamento sempre riconducibile a uno schema fisso**. Ciò significa che una regola di traduzione potrebbe essere corretta per una o più sue citazioni, ma anche che potrebbe non esserlo per altre aventi la stessa struttura sintattica.\n",
    "\n",
    "È possibile constatare questa irregolarità anche tramite l'**osservazione degli esempi**:\n",
    "1. L'**anteposizione degli aggettivi e dei sintagmi aggettivali** avviene negli esempi in cui compaiono $(a)$ $(d)$ $(e)$ $(f)$\n",
    "2. L'**anteposizione degli avverbi e dei sintagmi avverbiali** invece avviene sono nell'esempio $(d)$ e non in $(b)$\n",
    "2. L'**inversione di pronome e verbo** è infine presente solo nell'esempio $(b)$\n",
    "\n",
    "Ciò è stato tenuto presente durante la _fase di progettazione_.\n",
    "\n",
    "**Osservazione:** l'esempio $(f)$ presenta un errore grammaticale. `veloce` infatti è un aggettivo che rende la frase, che per essere corretta necessiterebbe di un avverbio, **non grammaticale**. \n",
    "Nell'implementazione tale frase è stata corretta sostituendo `velocemente` a `veloce`."
   ]
  },
  {
   "cell_type": "markdown",
   "metadata": {
    "pycharm": {},
    "slideshow": {
     "slide_type": "slide"
    }
   },
   "source": [
    "<hr>\n",
    "\n",
    "## 2. Realizzazione\n",
    "\n",
    "### 2.1 Requisiti:\n",
    "1. **Acquisizione di una grammatica** sufficientemente espressiva da coprire almeno il dominio di esempi precedentemente enumerati\n",
    "2. **Implementazione** di **CKY** che generi alberi sintattici avvalendosi di meccanismi di *backtracing*\n",
    "3. Manipolazione efficiente dei dati al fine di ottenere una **traduzione accurata dell'_input_**"
   ]
  },
  {
   "cell_type": "markdown",
   "metadata": {
    "pycharm": {}
   },
   "source": [
    "<hr>\n",
    "\n",
    "### 2.2 Grammatica\n",
    "Nella scrittura della grammatica sono state catturate solamente alcune tra le più significative **strutture** della lingua italiana . \n",
    "\n",
    "#### Sintagmi (regole grammaticali) modellati:\n",
    "- Sintagmi _nominali_ (**NP**)\n",
    "- Sintagmi _verbali_ (**VP**)\n",
    "- Sintagmi _aggettivali_ (**ADJP**)\n",
    "- Sintagmi _avverbiali_ (**ADVP**)\n",
    "- Sintagmi _preposizionali_ (**PP**)\n",
    "\n",
    "#### Unità sintattiche modellate:\n",
    "- _Pronomi personali_ e _nomi propri_ (**NP**)\n",
    "- _Nomi_ non propri (**NOUN**)\n",
    "- _Pronomi_ non personali (**PRON**)\n",
    "- _Verbi_ non usati come ausiliari (**VERB**)\n",
    "- _Verbi_ usati come _ausiliari_ (**AUX**)\n",
    "- _Verbi_ composti usati con un _ausiliare_ (**VBN**)\n",
    "- _Articoli_ (**DET**)\n",
    "- _Avverbi_ (**ADV**)\n",
    "- _Preposizioni_ (**ADP**)\n",
    "- _Aggettivi_ (**ADJ**)"
   ]
  },
  {
   "cell_type": "markdown",
   "metadata": {
    "pycharm": {}
   },
   "source": [
    "<hr>\n",
    "\n",
    "\n",
    "### 2.3 Architettura\n",
    "\n",
    "#### Piattaforma\n",
    "**_Nltk_** è una _suite di librerie_ che mette a disposizione classi e metodi per la gestione di alberi sintattici e grammatiche.\n",
    "\n",
    "Scritta in in **_python_**, è il punto di riferimento per l'elaborazione del linguaggio naturale _open source_ e si è perciò dimostrata una **solida scelta**."
   ]
  },
  {
   "cell_type": "markdown",
   "metadata": {
    "pycharm": {},
    "slideshow": {
     "slide_type": "subslide"
    }
   },
   "source": [
    "#### Moduli:\n",
    "- `_init_`, responsabile dell'inizializzazione dei **_dati di configurazione_**:    \n",
    "    \n",
    "    - `data_folder` e `data_file` sono i **riferimenti sul filesystem** rispettivamente alla _cartella delle grammatiche_ e ad una _specifica grammatica_\n",
    "    -  `sentences` è una lista di **stringhe di _input_** (_frasi_) da sottoporre al traduttore\n",
    "    -  `translation_rules`  è una lista di `Nonterminal`; **il traduttore la utilizza per trasformare l'albero sintattico** in fase di traduzione\n",
    "    \n",
    "    \n",
    "- `_logic_`, resposabile della **_logica applicativa_** .\n",
    "\n",
    "    - Composto da due funzioni, `cky_parsing` e `translate`, **determina le funzionalità dell'applicazione** eseguendo elaborazioni dettagliate\n",
    "    \n",
    "\n",
    "- `_main_`, responsabile dell'**_avvio del programma_**.\n",
    "\n",
    "    - Richiama entrambi i moduli precedentemente descritti. \n",
    "\n",
    "<hr>\n",
    "\n"
   ]
  },
  {
   "cell_type": "markdown",
   "metadata": {
    "pycharm": {},
    "slideshow": {
     "slide_type": "subslide"
    }
   },
   "source": [
    "#### 2.3.1 Descrizione di `cky_parsing`\n",
    "Implementa l'**algoritmo di parsificazione CKY**.\n",
    "- _input_: lista di parole `words`, Context-Free-Grammar `grammar` e parametro opzionale booleano `draw `.\n",
    "- _output_: albero sintattico le cui foglie sono componenti di `words` e il cui nodo padre è il POS tag che l'algoritmo ha associato loro\n",
    "<table class=\"tg\" align=\"left\">\n",
    "<tr> <th class=\"tg-0pky\"> Il <b><i>POS tag</i></b> è il mezzo con cui è possibile effettuare elaborazione del linguaggio naturale. <br> Consiste in una sequenza di caratteri che <b>identifica</b> un insieme elementi sintattici simili tra loro, e <b>distingue</b> quelli che invece non lo sono. </th> </tr> </table>"
   ]
  },
  {
   "cell_type": "markdown",
   "metadata": {
    "pycharm": {},
    "slideshow": {
     "slide_type": "subslide"
    }
   },
   "source": [
    "L'algoritmo costruisce una **matrice `table`**, di tipo `ndarray`. Ciascuna **componente** di tale matrice è una **lista di alberi sintattici** potenzialmente vuota. La presenza di **un albero sintattico certifica la corrispondenza tra una produzione della grammatica e la frase di input**.\n",
    "\n",
    "Questa implementazione **determina se una sequenza di parole $S$ è coperta da una grammatica $G$**:\n",
    "\n",
    "- se la **componente** di `table` **$[0,\\ n-1]$** è una **lista vuota**, allora vuol dire che **non esiste un albero sintattico** di $S$ in accordo a $G$.\n",
    " <br> In tal caso l'**algoritmo restituisce un albero la cui radice presenta l'etichetta \"`Grammar error`\"**.\n",
    " \n",
    " **Osservazione:** ciò avviene anche se `grammar` non è espressa in **_Chomsky Normal Form_**\n",
    "<table class=\"tg\" align=\"left\">\n",
    "<tr> <th class=\"tg-0pky\"> <b><i>Chomsky Normal Form:</i></b> forma normale in cui l’<i>RHS</i> di ogni regola possiede due simboli non terminali oppure un singolo simbolo terminale. </th> </tr> </table>\n"
   ]
  },
  {
   "cell_type": "markdown",
   "metadata": {},
   "source": [
    "- se altrimenti tale **componente** è una **lista non vuota**, allora vuol dire che $G$ copre $S$ ed inoltre\n",
    "    - se contiene **un solo elemento**, l'**interpretazione** di $S$ è **univoca**\n",
    "    - se viceversa contiene **più di un elemento**, vi sono più interpretazioni di $S$ e quindi vi è **ambiguità**\n",
    "  <br> \n",
    "  \n",
    "  In tal caso l'**algoritmo restituisce il primo albero** presente nella lista, ignorando così l'ambiguità. <br> Se `draw` ha valore **True**, allora tale albero viene anche disegnato a schermo."
   ]
  },
  {
   "cell_type": "code",
   "execution_count": null,
   "metadata": {
    "pycharm": {},
    "scrolled": true,
    "slideshow": {
     "slide_type": "subslide"
    }
   },
   "outputs": [],
   "source": [
    "def cky_parsing(words: list, grammar: CFG, draw=False):\n",
    "        n = len(words) + 1\n",
    "        table = numpy.ndarray(shape=(n,n), dtype=set)\n",
    "\n",
    "        for j in range(1, n):                                                           \n",
    "            table[j-1, j] = list(map(lambda rule: Tree(rule.lhs(), [words[j-1]]),      \n",
    "                                list(filter(lambda production: len(production.rhs()) == 1\n",
    "                                                                  and production.rhs()[0] == words[j-1],\n",
    "                                                               grammar.productions()))))\n",
    "\n",
    "            for i in reversed(range(0, j-1)):\n",
    "                for k in range(i+1, j):                         \n",
    "                    rule = list(map(lambda rule: Tree(rule.lhs(), [table[i, k][0], table[k, j][0]]),\n",
    "                        list(filter(lambda production: len(production.rhs()) == 2\n",
    "                           and table[i, k] is not None and production.rhs()[0] in map(lambda head: head.label(), table[i, k])\n",
    "                           and table[k, j] is not None and production.rhs()[1] in map(lambda head: head.label(), table[k, j]),\n",
    "                        grammar.productions()))))\n",
    "                    table[i, j] = rule if table[i, j] is None else rule + table[i, j]\n",
    "                    \n",
    "        if draw: table[0, n - 1][0].draw()\n",
    "        return table[0, n-1][0] if len(table[0, n-1]) != 0 else Tree(\"Grammar error\", []) "
   ]
  },
  {
   "cell_type": "markdown",
   "metadata": {
    "pycharm": {},
    "slideshow": {
     "slide_type": "slide"
    }
   },
   "source": [
    "<hr>\n",
    "\n",
    "#### 2.3.2 Descrizione di `translate`\n",
    "Implementazione della **fase di traduzione** del programma.\n",
    "- _input_: albero sintattico `tree` della frase da tradurre, lista di non terminali `translation_rules` e parametro opzionale booleano `draw `.\n",
    "- _output_: manipolazione dell'albero `tree` di partenza; rappresenta la traduzione effettuata\n",
    "\n",
    "Questa funzione effettua in `tree` una **ricerca in profondità in preordine** di un oggetto di classe `Nonterminal` (POS tag o sintagma che sia) presente nella lista `translation_rules`. Se la ricerca ha successo, **antepone tale oggetto** (`put_left`) **al resto della frase** attraverso la manipolazione dell'albero di partenza.\n",
    "\n",
    " Se `draw` ha valore **True**, allora l'albero così manipolato viene anche disegnato a schermo. La **funzione restituisce l'albero manipolato**, ovvero quello su cui è stata effettuata la traduzione, la cui radice presenta l'etichetta \"`S'`\".\n",
    " \n",
    " \n",
    " **Osservazione:** l'albero in _output_ è stato volutamente mantenuto binario."
   ]
  },
  {
   "cell_type": "code",
   "execution_count": null,
   "metadata": {
    "pycharm": {},
    "slideshow": {
     "slide_type": "subslide"
    }
   },
   "outputs": [],
   "source": [
    "def translate(tree: Tree, translation_rules: list, draw=False):\n",
    "    put_left = list(filter(lambda i: isinstance(tree[i], Tree)\n",
    "                                          and tree[i].label() in translation_rules\n",
    "                                          and not 'put_left' in locals(),\n",
    "                                tree.treepositions()))[0] if len(tree) != 0 else []\n",
    "\n",
    "    if len(put_left) != 0:\n",
    "        prefix = tree.__getitem__(put_left)\n",
    "        tree.__delitem__(put_left)\n",
    "        tree = Tree(Nonterminal(\"S'\"), [prefix, tree])\n",
    "        if draw: tree.draw()\n",
    "\n",
    "    return tree"
   ]
  },
  {
   "cell_type": "markdown",
   "metadata": {},
   "source": [
    "<hr>\n",
    "\n",
    "### 2.4 Note sull'implementazione\n",
    "Il sistema fa ampio uso di **funzioni anonime** (o **funzioni lambda**), caratterizzate dall'assenza di un identificatore. Tali funzioni godono della caratteristica di essere **componibili**, ossia autonome e senza stato. \n",
    "Ciò rende possibile la **composizione di funzioni**, ovvero l'utilizzo di funzioni come parametri di altre funzioni.\n",
    "\n",
    "Lo stile di programmazione che fa uso di questa caratteristica viene chiamato **programmazione funzionale** ed è basato su un paradigma di tipo _dichiarativo_ anziché _procedurale_; **_python_** lo supporta.\n",
    "\n",
    "\n",
    "**Vantaggi principali di questo approccio:** \n",
    "- _Maggiore facilità di lettura e manutenibilità_, ogni funzione è progettata per realizzare un'attività specifica con gli argomenti assegnati. La funzione non si basa su alcuno stato esterno.\n",
    "- _Sviluppo iterativo più semplice_, in quanto è più agevole eseguire il refactoring del codice ed è più facile implementare le modifiche di progettazione.\n",
    "- _Procedure più semplici di test e debug_, le funzioni anonime possono essere più facilmente testate in isolamento ed è possibile scrivere codice di test che le chiama con valori tipici, casi limite validi e casi limite non validi.\n",
    "- <a href=\"https://leadsift.com/loop-map-list-comprehension/\"><i>Migliori prestazioni</i></a>\n"
   ]
  },
  {
   "cell_type": "markdown",
   "metadata": {
    "pycharm": {},
    "slideshow": {
     "slide_type": "subslide"
    }
   },
   "source": [
    "<hr>\n",
    "\n",
    "## 3. Conclusione\n",
    "\n",
    "### 3.1 Considerazioni\n",
    "\n",
    "#### 3.1.1 Correttezza\n",
    "\n",
    "Il programma si comporta come atteso nella maggior parte dei casi, ma non in tutti.\n",
    "\n",
    "Le incongruenze presenti all'interno delle citazioni stesse di cui si è parlato precedentemente, non permettono infatti di stabilire delle regole di traduzione generali al punto da permettere al traduttore di comportarsi ottimamente per tutti i possibili _input_.\n",
    "\n",
    "Con riferimento agli esempi, in particolare, il traduttore ottiene sempre l'esatto **output atteso**, tranne che per l'esempio $(b)$; che però si comporta in modo anomalo per ben 2 delle 3 regole catturate per la traduzione nel linguaggio Yoda e pertanto richiederebbe delle _regole ad hoc_.\n",
    "\n",
    "Viene di seguito riportata la traduzione del <a href=\"http://www.yodaspeak.co.uk/index.php\">Yoda speak generator</a>: <br>\n",
    "\n",
    "<p align=\"center\"><img src=\"https://i.ibb.co/dtpL47B/yoda.png\"/></p>\n",
    "\n",
    "<br>\n",
    "\n",
    "La quale **non coincide** con l'output atteso e prova la duplice problematicità sia dell'esempio in questione che della generalizzazione della traduzione nel linguaggio Yoda.\n",
    "\n",
    "\n",
    "#### 3.1.2 Paradigma di traduzione automatica adottato\n",
    "\n",
    "Il paradigma di traduzione adottato dal sistema prende il nome di paradigma **transfer**. \n",
    "\n",
    "Per effettuare cioè la traduzione effettua le seguenti iterazioni:\n",
    "- _**Analizza**_ la struttura sintattica dell'_input_, cioè la **parsifica** e ne **valuta i _POS tag_**; nel sistema implementato ciò corrisponde all'esecuzione dell'_algoritmo CKY_\n",
    "- _**Trasferisce**_ la struttura analizzata, ovvero effettua una prima **traduzione**; nel sistema implementato ciò non è necessario in quanto le parole non cambiano tra i due idiomi\n",
    "- _**Sintetizza**_ la frase in _output_ attraverso l'utilizzo di regole; nel sistema implementato tali regole decidono l'**ordine** dei sintagmi "
   ]
  },
  {
   "attachments": {
    "1_a.png": {
     "image/png": "[encoded data removed]"
    },
    "1_b.png": {
     "image/png": "[encoded data removed]"
    }
   },
   "cell_type": "markdown",
   "metadata": {
    "pycharm": {}
   },
   "source": [
    "### 3.2 Esempi di traduzione\n",
    "\n",
    "<p><b>Input</b></p> | <p><b>Output reale</b></p>\n",
    "- | - \n",
    "<img src=\"https://i.ibb.co/ZY0D1mn/S.png\"/> | <img src=\"https://i.ibb.co/RYsLQfp/S.png\"/>\n",
    "<img src=\"https://i.ibb.co/qWqKCYN/S.png\"/> | <img src=\"https://i.ibb.co/ns3K8mJ/S.png\"/>"
   ]
  }
 ],
 "metadata": {
  "celltoolbar": "Raw Cell Format",
  "kernelspec": {
   "display_name": "Python 3",
   "language": "python",
   "name": "python3"
  },
  "language_info": {
   "codemirror_mode": {
    "name": "ipython",
    "version": 3
   },
   "file_extension": ".py",
   "mimetype": "text/x-python",
   "name": "python",
   "nbconvert_exporter": "python",
   "pygments_lexer": "ipython3",
   "version": "3.7.0"
  }
 },
 "nbformat": 4,
 "nbformat_minor": 2
}
