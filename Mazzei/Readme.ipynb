{
 "cells": [
  {
   "cell_type": "markdown",
   "metadata": {
    "slideshow": {
     "slide_type": "skip"
    }
   },
   "source": [
    "<style type=\"text/css\">\n",
    "div.text_cell_render h1 {  \n",
    "    font-size: 24pt; }\n",
    "\n",
    "div.text_cell_render h2 {  \n",
    "    font-size: 18pt; }\n",
    "\n",
    "div.text_cell_render h3 {  \n",
    "    font-size: 14pt; }\n",
    "\n",
    ".rendered_html pre,\n",
    ".rendered_html code {\n",
    "    font-size: medium; }\n",
    "\n",
    ".rendered_html ol {\n",
    "    list-style:decimal;\n",
    "    margin: 1em 2em; }    \n",
    "    \n",
    ".tg  {border-collapse:collapse;border-spacing:0;}\n",
    ".tg td{font-family:Arial, sans-serif;font-size:14px;padding:10px 5px;border-style:solid;border-width:1px;overflow:hidden;word-break:normal;border-color:black;}\n",
    ".tg th{font-family:Arial, sans-serif;font-size:14px;font-weight:normal;padding:10px 5px;border-style:solid;border-width:1px;overflow:hidden;word-break:normal;border-color:black;}\n",
    ".tg .tg-0pky{border-color:inherit;text-align:left;vertical-align:top} </style>"
   ]
  },
  {
   "cell_type": "markdown",
   "metadata": {
    "slideshow": {
     "slide_type": "slide"
    }
   },
   "source": [
    "<table class=\"tg\" align=\"right\">\n",
    "  <tr>\n",
    "    <th class=\"tg-0pky\"> <b>Author:</b> </th>\n",
    "    <th class=\"tg-0pky\"> Cesare Pio Iurlaro <br> (<a href=\"cesareiurlaro@gmail.com\">cesareiurlaro@gmail.com</a>)  </th>\n",
    "  </tr>\n",
    "  <tr>\n",
    "    <th class=\"tg-0pky\"> <b>URLs:</b> </th>\n",
    "    <th class=\"tg-0pky\"> - <a href=\"https://github.com/CesareIurlaro\">GitHub.com </a> <br>\n",
    "                         - <a href=\"https://www.linkedin.com/in/cesare-iurlaro\">Linkedin.com </a></th></tr>\n",
    "</table> \n",
    "\n",
    "<hr>\n",
    "\n",
    "# Elementi di elaborazione automatica del linguaggio naturale - Esercizio #2"
   ]
  },
  {
   "cell_type": "markdown",
   "metadata": {
    "slideshow": {
     "slide_type": "subslide"
    }
   },
   "source": [
    "<hr>\n",
    "\n",
    "## 1. Traccia \n",
    "L'esercizio consiste nell'implementazione di un semplice **traduttore transfer** **IT $\\rightarrow$ IT**-**YO**, ovvero di un _sistema di traduzione_ che prenda in _input_ una frase scritta in italiano e che restituisca in _output_ la corrispondente traduzione in 'italiano-yoda', lingua fittizia parlata nell'universo cinematografico della saga di Guerre Stellari.\n",
    "\n",
    "\n",
    "La **parsificazione** è vincolata all'utilizzo dell'**_algoritmo CKY_**, algoritmo per _grammatiche fuori dal contesto_ (_CFG_) che sfrutta il metodo di **_programmazione dinamica_** e una strategia **_bottom-up_** per svolgere il _task_ con una _complessità nel caso peggiore_ di $\\mathcal{O}\\left(n^{3} \\cdot|G|\\right)$, dove $n$ è la _lunghezza_ della stringa da parsificare e $|G|$ la cardinalità della grammatica $G$."
   ]
  },
  {
   "cell_type": "markdown",
   "metadata": {
    "slideshow": {
     "slide_type": "subslide"
    }
   },
   "source": [
    "Di seguito sono elencati alcuni esempi di traduzioni che ci si aspetta che il traduttore sia in grado di eseguire correttamente:\n",
    "\n",
    "\n",
    "<table class=\"tg\">\n",
    "  <tr>\n",
    "    <th class=\"tg-0pky\"></th>\n",
    "    <th class=\"tg-0pky\"><b>Input</b></th>\n",
    "    <th class=\"tg-0pky\"><b>Output atteso</b></th>\n",
    "  </tr>\n",
    "  <tr>\n",
    "    <th class=\"tg-0pky\">$(a)$</th>\n",
    "    <th class=\"tg-0pky\">Tu avrai novecento anni di età</th>\n",
    "    <th class=\"tg-0pky\">Novecento anni di età tu avrai</th>\n",
    "  </tr>\n",
    "  <tr>\n",
    "    <th class=\"tg-0pky\">$(b)$</th>\n",
    "    <th class=\"tg-0pky\">Tu hai amici lì</th>\n",
    "    <th class=\"tg-0pky\">Amici hai tu lì</th>\n",
    "  </tr>\n",
    "  <tr>\n",
    "    <th class=\"tg-0pky\">$(c)$</th>\n",
    "    <th class=\"tg-0pky\">Noi siamo illuminati</th>\n",
    "    <th class=\"tg-0pky\">Illuminati noi siamo</th>\n",
    "  </tr>\n",
    "  <tr>\n",
    "    <th class=\"tg-0pky\">$(d)$</th>\n",
    "    <th class=\"tg-0pky\">Tu hai molto molto da apprendere ancora</th>\n",
    "    <th class=\"tg-0pky\">Molto da apprendere ancora tu hai</th>\n",
    "  </tr>\n",
    "  <tr>\n",
    "    <th class=\"tg-0pky\">$(e)$</th>\n",
    "    <th class=\"tg-0pky\">Il futuro di questo ragazzo è nebuloso</th>\n",
    "    <th class=\"tg-0pky\">Nebuloso il futuro di questo ragazzo è</th>\n",
    "  </tr>\n",
    "  <tr>\n",
    "    <th class=\"tg-0pky\">$(f)$</th>\n",
    "    <th class=\"tg-0pky\">Skywalker corre veloce</th>\n",
    "    <th class=\"tg-0pky\">Veloce Skywalker corre</th>\n",
    "  </tr>\n",
    "    \n",
    "</table>"
   ]
  },
  {
   "cell_type": "markdown",
   "metadata": {
    "slideshow": {
     "slide_type": "slide"
    }
   },
   "source": [
    "### 1.1 Il linguaggio di Yoda\n",
    "Yoda è un personaggio immaginario della saga fantascientifica di Guerre stellari. \n",
    "I suoi **caratteristici schemi linguistici** sono stati oggetto di discussione in tipologia linguistica; gli accademici sintattici li hanno infatti associati ad un **ordine di sintassi realmente adottato da alcuni linguaggi naturali: l'ordine Oggetto-Soggetto-Verbo** (**OSV**).\n",
    "Quest'ultimo viene anche detto **XSV**, dove **X** rappresenta un qualsivoglia complemento, eventualmente anche non oggetto, che si coordini appropriatamente con il verbo.\n",
    "<hr>\n",
    "##### $A$ $long$ $time$ $ago$ $in$ $a$ $galaxy$ $far$ $far$ $away$ $...$ \n",
    "![Alt text](https://encrypted-tbn0.gstatic.com/images?q=tbn:ANd9GcTLYrmOHFvYMRgYBpwMyVffZHZ0Os33YNoxEiR9rzKDDuRNyYQY)\n",
    "<hr>\n",
    "Esempi di altre lingue che fanno uso di questo ordine sono le lingue _haida_ e _kotava_."
   ]
  },
  {
   "cell_type": "markdown",
   "metadata": {
    "slideshow": {
     "slide_type": "subslide"
    }
   },
   "source": [
    "### 1.2 Osservazioni\n",
    "Sebbene associato ad un _ordine OSV_, il linguaggio usato da Yoda **non ha un comportamento sempre riconducibile a uno schema fisso**. Ciò significa che una regola di traduzione potrebbe essere corretta per una o più sue citazioni, ma anche che potrebbe non esserlo per altre aventi la stessa struttura sintattica.\n",
    "\n",
    "È possibile constatare ciò anche tramite l'**osservazione degli esempi**:\n",
    "1. L'**anteposizione degli aggettivi e dei sintagmi aggettivali** avviene negli esempi in cui compaiono $(a)$ $(d)$ $(e)$ $(f)$\n",
    "2. L'**anteposizione dei sintagmi avverbiali** invece avviene sono nell'esempio $(d)$ e non in $(b)$\n",
    "2. L'**inversione di pronome e verbo** è infine presente solo nell'esempio $(b)$\n",
    "\n",
    "Ciò è stato tenuto presente durante la _fase di progettazione_.\n",
    "\n",
    "<hr>"
   ]
  },
  {
   "cell_type": "markdown",
   "metadata": {
    "slideshow": {
     "slide_type": "slide"
    }
   },
   "source": [
    "## 2. Realizzazione\n",
    "\n",
    "### 2.1 Requisiti:\n",
    "1. **Acquisizione di una grammatica** sufficientemente espressiva da coprire almeno il dominio di esempi precedentemente enumerati\n",
    "2. **Implementazione** di **CKY** che generi alberi sintattici avvalendosi di meccanismi di backtracing\n",
    "3. Manipolazione efficiente dei dati al fine di ottenere una **traduzione accurata dell'_input_**\n",
    "\n",
    "\n",
    "### 2.2 Architettura\n",
    "\n",
    "**Nltk** è la piattaforma di riferimento per l'elaborazione del linguaggio naturale _open source_ in _python_. \n",
    "Tale piattaforma offre una _suite di librerie_ che mettono a disposizione classi e metodi per la gestione di alberi sintattici e grammatiche e si è perciò dimostrata una **solida scelta**."
   ]
  },
  {
   "cell_type": "markdown",
   "metadata": {
    "slideshow": {
     "slide_type": "subslide"
    }
   },
   "source": [
    "#### Moduli:\n",
    "- `_init_`, responsabile dell'inizializzazione dei **dati di configurazione**:    \n",
    "    \n",
    "    - `data_folder` e `data_file` sono i **riferimenti sul filesystem** rispettivamente alla _cartella delle grammatiche_ e ad una _specifica grammatica_\n",
    "    -  `sentences` è una lista di **stringhe di _input_** (_frasi_) da sottoporre al traduttore\n",
    "    -  `translation_rules`  è la lista di `Nonterminal`; **il traduttore la utilizza per trasformazione l'albero sintattico** in fase di traduzione\n",
    "    \n",
    "    \n",
    "    \n",
    "- `_logic_`, resposabile della _logica applicativa._ \n",
    "\n",
    "    - Composto da due funzioni, `cky_parsing` e `translate`, **determina le funzionalità dell'applicazione** eseguendo elaborazioni dettagliate.\n",
    "    \n",
    "\n",
    "\n",
    "- `_main_`, responsabile dell'**avvio del programma**; richiama entrambi i moduli precedentemente descritti."
   ]
  },
  {
   "cell_type": "markdown",
   "metadata": {
    "slideshow": {
     "slide_type": "subslide"
    }
   },
   "source": [
    "### 2.3.1 Descrizione di `cky_parsing`\n",
    "Implementa l'**algoritmo di parsificazione CKY**.\n",
    "- _input_: lista di parole `words`, Context-Free-Grammar `grammar` e parametro opzionale booleano `draw `.\n",
    "- _output_: albero sintattico le cui foglie sono componenti di `words` e il cui nodo padre è il POS tag che l'algoritmo ha associato loro\n",
    "<table class=\"tg\" align=\"left\">\n",
    "<tr> <th class=\"tg-0pky\"> Il <b><i>POS tag</i></b> è il mezzo con cui è possibile effettuare elaborazione del linguaggio naturale. <br> Consiste in una sequenza di caratteri che <b>identifica</b> un insieme elementi sintattici simili tra loro, e <b>distingue</b> quelli che invece non lo sono. </th> </tr> </table>"
   ]
  },
  {
   "cell_type": "markdown",
   "metadata": {
    "slideshow": {
     "slide_type": "subslide"
    }
   },
   "source": [
    "L'algoritmo costruisce una **matrice `table`**, di tipo `ndarray`. Ciascuna **componente** di tale matrice è una **lista di alberi sintattici** potenzialmente vuota. La presenza di **un albero sintattico certifica la corrispondenza tra una produzione della grammatica e la frase di input**.\n",
    "\n",
    "Questa implementazione **determina se una sequenza di parole $S$ è coperta da una grammatica $G$**:\n",
    "\n",
    "- se la **componente** di `table` **$[0,\\ n-1]$** è una **lista vuota**, allora vuol dire che **non esiste un albero sintattico** di $S$ in accordo a $G$. <br> In tal caso l'**algoritmo restituisce un albero la cui radice presenta l'etichetta \"`Grammar error`\"**.\n",
    "\n",
    "\n",
    "- se altrimenti tale **componente** è una **lista non vuota**, allora vuol dire che $G$ copre $S$ ed inoltre\n",
    "    - se contiene **un solo elemento**, l'**interpretazione** di $S$ è **univoca**\n",
    "    - se viceversa contiene **più di un elemento**, vi sono più interpretazioni di $S$ e quindi vi è **ambiguità**\n",
    "  <br> In tal caso l'**algoritmo restituisce il primo albero** presente nella lista, ignorando così l'ambiguità. <br> Se `draw` ha valore **True**, allora tale albero viene anche disegnato a schermo."
   ]
  },
  {
   "cell_type": "code",
   "execution_count": null,
   "metadata": {
    "scrolled": true,
    "slideshow": {
     "slide_type": "subslide"
    }
   },
   "outputs": [],
   "source": [
    "def cky_parsing(words: list, grammar: CFG, draw=False):\n",
    "        n = len(words) + 1\n",
    "        table = numpy.ndarray(shape=(n,n), dtype=set)\n",
    "\n",
    "        for j in range(1, n):                                                           \n",
    "            table[j-1, j] = list(map(lambda rule: Tree(rule.lhs(), [words[j-1]]),      \n",
    "                                list(filter(lambda production: len(production.rhs()) == 1\n",
    "                                                                  and production.rhs()[0] == words[j-1],\n",
    "                                                               grammar.productions()))))\n",
    "\n",
    "            for i in reversed(range(0, j-1)):\n",
    "                for k in range(i+1, j):                         \n",
    "                    rule = list(map(lambda rule: Tree(rule.lhs(), [table[i, k][0], table[k, j][0]]),\n",
    "                        list(filter(lambda production: len(production.rhs()) == 2\n",
    "                           and table[i, k] is not None and production.rhs()[0] in map(lambda head: head.label(), table[i, k])\n",
    "                           and table[k, j] is not None and production.rhs()[1] in map(lambda head: head.label(), table[k, j]),\n",
    "                        grammar.productions()))))\n",
    "                    table[i, j] = rule if table[i, j] is None else rule + table[i, j]\n",
    "                    \n",
    "        if draw: table[0, n - 1][0].draw()\n",
    "        return table[0, n-1][0] if len(table[0, n-1]) != 0 else Tree(\"Grammar error\", []) "
   ]
  },
  {
   "cell_type": "markdown",
   "metadata": {
    "slideshow": {
     "slide_type": "slide"
    }
   },
   "source": [
    "### 2.3.1 Descrizione di `translate`\n",
    "Implementazione della **fase di traduzione** del programma.\n",
    "- _input_: albero sintattico `tree` della frase da tradurre, lista di non terminali `translation_rules` e parametro opzionale booleano `draw `.\n",
    "- _output_: matrice $n\\times n$ `table` di insiemi\n",
    "\n",
    "Questa funzione effettua in `tree` una **ricerca in profondità in preordine** di un oggetto di classe `Nonterminal` (POS tag o sintagma che sia) presente nella lista `translation_rules`. Se la ricerca ha successo, antepone tale oggetto al resto della frase.\n",
    "\n",
    " <br> Se `draw` ha valore **True**, allora l'albero così manipolato viene anche disegnato a schermo.<br> La **funzione restituisce l'albero manipolato**, ovvero quello su cui è stata effettuata la traduzione e la cui radice presenta l'etichetta \"`Translation`\"."
   ]
  },
  {
   "cell_type": "code",
   "execution_count": null,
   "metadata": {
    "slideshow": {
     "slide_type": "subslide"
    }
   },
   "outputs": [],
   "source": [
    "def translate(tree: Tree, translation_rules: list, draw=False):\n",
    "    put_back = list(filter(lambda i: isinstance(tree[i], Tree)\n",
    "                                          and tree[i].label() in translation_rules\n",
    "                                          and not 'put_back' in locals(),\n",
    "                                tree.treepositions()))[0] if len(tree) != 0 else []\n",
    "\n",
    "    if len(put_back) != 0:\n",
    "        prefix = tree.__getitem__(put_back)\n",
    "        tree.__delitem__(put_back)\n",
    "        tree = Tree(Nonterminal('Translation'), [prefix, tree[0], tree[1]])\n",
    "        if draw: tree.draw()\n",
    "\n",
    "    return tree"
   ]
  },
  {
   "cell_type": "markdown",
   "metadata": {
    "slideshow": {
     "slide_type": "subslide"
    }
   },
   "source": []
  },
  {
   "cell_type": "markdown",
   "metadata": {},
   "source": [
    "## Conclusioni"
   ]
  }
 ],
 "metadata": {
  "celltoolbar": "Raw Cell Format",
  "kernelspec": {
   "display_name": "Python 3",
   "language": "python",
   "name": "python3"
  },
  "language_info": {
   "codemirror_mode": {
    "name": "ipython",
    "version": 3
   },
   "file_extension": ".py",
   "mimetype": "text/x-python",
   "name": "python",
   "nbconvert_exporter": "python",
   "pygments_lexer": "ipython3",
   "version": "3.7.0"
  }
 },
 "nbformat": 4,
 "nbformat_minor": 2
}
